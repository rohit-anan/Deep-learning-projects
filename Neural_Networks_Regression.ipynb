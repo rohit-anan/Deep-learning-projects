{
  "nbformat": 4,
  "nbformat_minor": 0,
  "metadata": {
    "colab": {
      "provenance": [],
      "authorship_tag": "ABX9TyNtYLCwuAz2qrcQ9FuB5j8Q",
      "include_colab_link": true
    },
    "kernelspec": {
      "name": "python3",
      "display_name": "Python 3"
    },
    "language_info": {
      "name": "python"
    }
  },
  "cells": [
    {
      "cell_type": "markdown",
      "metadata": {
        "id": "view-in-github",
        "colab_type": "text"
      },
      "source": [
        "<a href=\"https://colab.research.google.com/github/rohit-anan/Deep-learning-projects/blob/main/Neural_Networks_Regression.ipynb\" target=\"_parent\"><img src=\"https://colab.research.google.com/assets/colab-badge.svg\" alt=\"Open In Colab\"/></a>"
      ]
    },
    {
      "cell_type": "markdown",
      "source": [
        "# **REGRESSION IN NEURAL NETWORKS**\n",
        "\n",
        "* ## PREDICTING HOUSE PRICES"
      ],
      "metadata": {
        "id": "3qTL5n1JwuS6"
      }
    },
    {
      "cell_type": "markdown",
      "source": [
        "### 1. The Boston housing price dataset\n",
        "\n",
        "Aim is to predict the median price of homes in a given Boston suburbin the mid 1970s."
      ],
      "metadata": {
        "id": "ecuN5LjbxRJJ"
      }
    },
    {
      "cell_type": "markdown",
      "source": [
        "1.a. Loading the dataset."
      ],
      "metadata": {
        "id": "Ea1QvS36yFi4"
      }
    },
    {
      "cell_type": "code",
      "execution_count": null,
      "metadata": {
        "id": "eX0jsofnwg5M"
      },
      "outputs": [],
      "source": [
        "from tensorflow.keras.datasets import boston_housing"
      ]
    },
    {
      "cell_type": "code",
      "source": [
        "(train_data,train_targets),(test_data,test_targets) = (boston_housing.load_data())"
      ],
      "metadata": {
        "colab": {
          "base_uri": "https://localhost:8080/"
        },
        "id": "FokBa0uCyhib",
        "outputId": "7efd80f8-171f-4aeb-8be5-04239429447e"
      },
      "execution_count": null,
      "outputs": [
        {
          "output_type": "stream",
          "name": "stdout",
          "text": [
            "Downloading data from https://storage.googleapis.com/tensorflow/tf-keras-datasets/boston_housing.npz\n",
            "57026/57026 [==============================] - 0s 0us/step\n"
          ]
        }
      ]
    },
    {
      "cell_type": "code",
      "source": [
        "print(f\"shape of train data:{train_data.shape}\")\n",
        "print(f\"shape of test data:{test_data.shape}\")"
      ],
      "metadata": {
        "colab": {
          "base_uri": "https://localhost:8080/"
        },
        "id": "FCsvxTFzy2Cj",
        "outputId": "6d66955b-83f7-4829-ee36-b7d6dbc4958d"
      },
      "execution_count": null,
      "outputs": [
        {
          "output_type": "stream",
          "name": "stdout",
          "text": [
            "shape of train data:(404, 13)\n",
            "shape of test data:(102, 13)\n"
          ]
        }
      ]
    },
    {
      "cell_type": "markdown",
      "source": [
        "There are 404 training samples and 102 testing samples. And, there are 13 features susch as avg number of rooms, per capita crime rate etc.\n"
      ],
      "metadata": {
        "id": "WhwPCaBSzPsP"
      }
    },
    {
      "cell_type": "code",
      "source": [
        "print(train_targets[10:20])"
      ],
      "metadata": {
        "colab": {
          "base_uri": "https://localhost:8080/"
        },
        "id": "KAsmCFwqy-Vh",
        "outputId": "bf0f4c8c-852b-4cab-c639-0176881b517f"
      },
      "execution_count": null,
      "outputs": [
        {
          "output_type": "stream",
          "name": "stdout",
          "text": [
            "[12.1 17.9 23.1 19.9 15.7  8.8 50.  22.5 24.1 27.5]\n"
          ]
        }
      ]
    },
    {
      "cell_type": "markdown",
      "source": [
        "Targets are median price values in the unit thousands of dollars."
      ],
      "metadata": {
        "id": "gDDO6zyez1lX"
      }
    },
    {
      "cell_type": "markdown",
      "source": [
        "### 2. Preparing the data"
      ],
      "metadata": {
        "id": "RwhFnvMS0AR5"
      }
    },
    {
      "cell_type": "markdown",
      "source": [
        "We need to normalize the data as many features have different scale. Some are binary whereas some take values between 0 and 100 and so on."
      ],
      "metadata": {
        "id": "Jeyk1Of00SBJ"
      }
    },
    {
      "cell_type": "code",
      "source": [
        "mean = train_data.mean(axis=0)\n",
        "train_data -=mean    # subtracting mean value from training data\n",
        "std = train_data.std(axis=0)\n",
        "train_data /= std    # dividing the training data by standard deviation\n",
        "test_data -= mean    # subtracting the mean value from test data\n",
        "test_data /= std     # dividing the test data by standard deviation"
      ],
      "metadata": {
        "id": "4W5prEEZzqAk"
      },
      "execution_count": null,
      "outputs": []
    },
    {
      "cell_type": "markdown",
      "source": [
        "### 3. Building the model"
      ],
      "metadata": {
        "id": "1ksP5LPg1ndV"
      }
    },
    {
      "cell_type": "code",
      "source": [
        "from tensorflow import keras\n",
        "from keras import layers"
      ],
      "metadata": {
        "id": "Go-EaoLP26xZ"
      },
      "execution_count": null,
      "outputs": []
    },
    {
      "cell_type": "code",
      "source": [
        "def build_model():\n",
        "    model =keras.Sequential([\n",
        "        layers.Dense(64,activation=\"relu\"),\n",
        "        layers.Dense(64,activation=\"relu\"),\n",
        "        layers.Dense(1)])\n",
        "    model.compile(\n",
        "    optimizer = \"rmsprop\",\n",
        "    loss = \"mse\",\n",
        "    metrics = [\"mae\"])   # mae = mean absolute error\n",
        "    return model"
      ],
      "metadata": {
        "id": "lz2iDdin05P4"
      },
      "execution_count": null,
      "outputs": []
    },
    {
      "cell_type": "markdown",
      "source": [
        "### 4. Validating our approach using K-fold Validation"
      ],
      "metadata": {
        "id": "BMtYT3UX-tQP"
      }
    },
    {
      "cell_type": "code",
      "source": [
        "k = 4\n",
        "num_val_samples  = len(train_data)//4\n",
        "num_epochs = 100\n",
        "all_scores = []"
      ],
      "metadata": {
        "id": "QFPe_ZTd-1IQ"
      },
      "execution_count": null,
      "outputs": []
    },
    {
      "cell_type": "code",
      "source": [
        "import numpy as np\n",
        "for i in range(k):\n",
        "  print(f\"Processing fold #{i}\")\n",
        "  val_data = train_data[i*num_val_samples:(i+1)*num_val_samples]\n",
        "  val_targets = train_targets[i*num_val_samples:(i+1)*num_val_samples]\n",
        "  partial_train_data = np.concatenate(\n",
        "      [train_data[:i*num_val_samples],\n",
        "       train_data[(i+1)*num_val_samples:]],axis=0)\n",
        "  partial_train_targets = np.concatenate(\n",
        "      [train_targets[:i*num_val_samples],\n",
        "       train_targets[(i+1)*num_val_samples:]],axis=0)\n",
        "  model = build_model()\n",
        "  model.fit(partial_train_data,partial_train_targets,\n",
        "            epochs=num_epochs,batch_size=16,verbose=0)\n",
        "  val_mse,val_mae = model.evaluate(val_data,val_targets,verbose=0)\n",
        "  all_scores.append(val_mae)\n",
        "\n"
      ],
      "metadata": {
        "colab": {
          "base_uri": "https://localhost:8080/"
        },
        "id": "O5xf6gWpYA8f",
        "outputId": "a7a667bb-1faf-42fe-b35a-f6a16fd7deeb"
      },
      "execution_count": null,
      "outputs": [
        {
          "output_type": "stream",
          "name": "stdout",
          "text": [
            "Processing fold #0\n",
            "Processing fold #1\n",
            "Processing fold #2\n",
            "Processing fold #3\n"
          ]
        }
      ]
    },
    {
      "cell_type": "markdown",
      "source": [
        "Running this with num_epochs=100 yields the following results:"
      ],
      "metadata": {
        "id": "ZhR-Rp_sbZSb"
      }
    },
    {
      "cell_type": "code",
      "source": [
        "all_scores"
      ],
      "metadata": {
        "colab": {
          "base_uri": "https://localhost:8080/"
        },
        "id": "Abr_XjcJbFXT",
        "outputId": "72de1c7c-0b08-46a1-c6bf-76f8198c6f12"
      },
      "execution_count": null,
      "outputs": [
        {
          "output_type": "execute_result",
          "data": {
            "text/plain": [
              "[1.9913972616195679, 2.492729425430298, 2.5155422687530518, 2.418088436126709]"
            ]
          },
          "metadata": {},
          "execution_count": 12
        }
      ]
    },
    {
      "cell_type": "code",
      "source": [
        "np.mean(all_scores)"
      ],
      "metadata": {
        "colab": {
          "base_uri": "https://localhost:8080/"
        },
        "id": "OJOa3zBsbhSY",
        "outputId": "91012e1e-e022-4ad1-d09c-914d71bea17d"
      },
      "execution_count": null,
      "outputs": [
        {
          "output_type": "execute_result",
          "data": {
            "text/plain": [
              "2.3544393479824066"
            ]
          },
          "metadata": {},
          "execution_count": 13
        }
      ]
    },
    {
      "cell_type": "markdown",
      "source": [
        "Our mean validation score is 2.6, which means we are off by 2600 dollars on average. This is significant considering the price range from 10,000 to 50,000 dollars."
      ],
      "metadata": {
        "id": "j7kw7UUQb1cw"
      }
    },
    {
      "cell_type": "markdown",
      "source": [
        "Let's try training the model for a bit longer: 500 epochs. To keep a record of how well our model is doing at each epoch, we will modify the training loop to save the pre-epoch validation score log for each fold."
      ],
      "metadata": {
        "id": "AX7gY9CH9N_H"
      }
    },
    {
      "cell_type": "code",
      "source": [
        "num_epochs = 500\n",
        "all_mae_histories = []"
      ],
      "metadata": {
        "id": "_ObxqSSMbjnL"
      },
      "execution_count": null,
      "outputs": []
    },
    {
      "cell_type": "code",
      "source": [
        "for i in range(k):\n",
        "  print(f\"Processing fold #{i}\")\n",
        "  val_data = train_data[i*num_val_samples:(i+1)*num_val_samples]\n",
        "  val_targets = train_targets[i*num_val_samples:(i+1)*num_val_samples]\n",
        "  partial_train_data = np.concatenate(\n",
        "      [train_data[:i*num_val_samples],\n",
        "       train_data[(i+1)*num_val_samples:]],axis=0)\n",
        "  partial_train_targets = np.concatenate(\n",
        "      [train_targets[:i*num_val_samples],\n",
        "       train_targets[(i+1)*num_val_samples:]],axis=0)\n",
        "  model = build_model()\n",
        "  history = model.fit(partial_train_data,partial_train_targets,\n",
        "                      validation_data=(val_data,val_targets),\n",
        "                      epochs=num_epochs,batch_size=16,verbose=0)\n",
        "  mae_history = history.history[\"val_mae\"]\n",
        "  all_mae_histories.append(mae_history)"
      ],
      "metadata": {
        "colab": {
          "base_uri": "https://localhost:8080/"
        },
        "id": "WiBfs_cC-q1w",
        "outputId": "91c3ebf2-6984-430a-e113-dc91df3999e4"
      },
      "execution_count": null,
      "outputs": [
        {
          "output_type": "stream",
          "name": "stdout",
          "text": [
            "Processing fold #0\n",
            "Processing fold #1\n",
            "Processing fold #2\n",
            "Processing fold #3\n"
          ]
        }
      ]
    },
    {
      "cell_type": "markdown",
      "source": [
        "### 5. Building the history of successive mean K-Fold validation scores"
      ],
      "metadata": {
        "id": "ao1OiUXTBanL"
      }
    },
    {
      "cell_type": "code",
      "source": [
        "average_mae_history = [\n",
        "    np.mean([x[i] for x in all_mae_histories]) for i in range(num_epochs)\n",
        "]"
      ],
      "metadata": {
        "id": "5MKmNHd5_pYh"
      },
      "execution_count": null,
      "outputs": []
    },
    {
      "cell_type": "code",
      "source": [
        "print([average_mae_history])"
      ],
      "metadata": {
        "colab": {
          "base_uri": "https://localhost:8080/"
        },
        "id": "8kDMllA8B_OK",
        "outputId": "abe5dd98-cd17-4966-c856-acee0c47f3f9"
      },
      "execution_count": null,
      "outputs": [
        {
          "output_type": "stream",
          "name": "stdout",
          "text": [
            "[[19.271613597869873, 15.625232934951782, 11.521665096282959, 8.099924802780151, 6.057532787322998, 4.972690761089325, 4.33033150434494, 3.8886255025863647, 3.6342211961746216, 3.4435648918151855, 3.2346444725990295, 3.1100971698760986, 3.061825215816498, 2.974636733531952, 2.8421639800071716, 2.7972033619880676, 2.858072817325592, 2.70168536901474, 2.690288722515106, 2.682433009147644, 2.6243815422058105, 2.6602394580841064, 2.591270089149475, 2.60904598236084, 2.6092246770858765, 2.6085658073425293, 2.57853364944458, 2.5274786949157715, 2.5444095134735107, 2.535450577735901, 2.491440713405609, 2.5266069769859314, 2.5524415969848633, 2.453842282295227, 2.560654640197754, 2.4598787426948547, 2.4959110021591187, 2.5070191025733948, 2.4969992637634277, 2.4910370111465454, 2.462271749973297, 2.429797053337097, 2.4463041722774506, 2.4483895301818848, 2.476727068424225, 2.4932185411453247, 2.447552263736725, 2.406021296977997, 2.4504743218421936, 2.463983327150345, 2.4248254895210266, 2.4186025261878967, 2.4448091983795166, 2.4073701202869415, 2.429273545742035, 2.435955584049225, 2.3760325014591217, 2.426356613636017, 2.461288571357727, 2.3617608547210693, 2.3748549818992615, 2.3982983827590942, 2.384691059589386, 2.423914849758148, 2.412551134824753, 2.393200099468231, 2.412132143974304, 2.433660387992859, 2.430271565914154, 2.3537884056568146, 2.406008780002594, 2.3724639415740967, 2.408987194299698, 2.389322280883789, 2.3459531664848328, 2.3364113569259644, 2.3551103472709656, 2.371019959449768, 2.3552069067955017, 2.356823444366455, 2.3779002130031586, 2.3737109303474426, 2.3653819859027863, 2.3954200744628906, 2.373502552509308, 2.3768666684627533, 2.384339928627014, 2.4590298235416412, 2.354670286178589, 2.43043053150177, 2.404660940170288, 2.336696147918701, 2.3336470127105713, 2.3326306641101837, 2.366267204284668, 2.3470145165920258, 2.3599822521209717, 2.3964388966560364, 2.412663996219635, 2.348477602005005, 2.4449795484542847, 2.312259614467621, 2.453443706035614, 2.319525420665741, 2.365522414445877, 2.282738834619522, 2.328844040632248, 2.3788724541664124, 2.3716121912002563, 2.3710964024066925, 2.3589628636837006, 2.388468861579895, 2.318696677684784, 2.3353757858276367, 2.3729922771453857, 2.318385571241379, 2.3457614183425903, 2.3999497294425964, 2.3683197498321533, 2.281695544719696, 2.402532309293747, 2.4016371369361877, 2.280438780784607, 2.3195148706436157, 2.3561750054359436, 2.388465642929077, 2.3543407917022705, 2.405774414539337, 2.370354026556015, 2.3308311700820923, 2.3733173608779907, 2.3465459644794464, 2.3546491861343384, 2.343299478292465, 2.3452373147010803, 2.384199798107147, 2.390012711286545, 2.3586429953575134, 2.3929168581962585, 2.304357171058655, 2.298269122838974, 2.274641454219818, 2.3037938475608826, 2.3475402295589447, 2.325119197368622, 2.4127571284770966, 2.3586798012256622, 2.323785364627838, 2.3607688546180725, 2.311319202184677, 2.3224106431007385, 2.3850449323654175, 2.316427767276764, 2.348382443189621, 2.307488203048706, 2.3355900943279266, 2.2980280816555023, 2.340590476989746, 2.3381873667240143, 2.4062456488609314, 2.3778175115585327, 2.3410338163375854, 2.355934739112854, 2.3060478568077087, 2.348836898803711, 2.3653699159622192, 2.496907889842987, 2.489319682121277, 2.3476146459579468, 2.313515365123749, 2.3336478173732758, 2.3113260865211487, 2.3753923773765564, 2.310151696205139, 2.3725591003894806, 2.350437670946121, 2.318581610918045, 2.316122055053711, 2.395413875579834, 2.287018984556198, 2.3525649309158325, 2.3264628052711487, 2.301836133003235, 2.3157777190208435, 2.3087692856788635, 2.3834341764450073, 2.395723581314087, 2.4048506915569305, 2.306394338607788, 2.3992104530334473, 2.381733685731888, 2.347849726676941, 2.369773119688034, 2.285846322774887, 2.3414048552513123, 2.3915172815322876, 2.3369956612586975, 2.5382750630378723, 2.42274010181427, 2.3006272315979004, 2.491155207157135, 2.4350903630256653, 2.294159770011902, 2.347144275903702, 2.3317381739616394, 2.3195648193359375, 2.28991761803627, 2.3222725987434387, 2.3425151705741882, 2.4422852396965027, 2.3108583092689514, 2.435640335083008, 2.3489480912685394, 2.3159167170524597, 2.4469921588897705, 2.411444842815399, 2.3650230169296265, 2.321086347103119, 2.3468136489391327, 2.4149848222732544, 2.3182600140571594, 2.3777818977832794, 2.3679093420505524, 2.331225335597992, 2.3886396884918213, 2.394582152366638, 2.3931307792663574, 2.355147033929825, 2.353600412607193, 2.338656634092331, 2.3412120938301086, 2.317995548248291, 2.3528330326080322, 2.34281587600708, 2.3227312564849854, 2.3243308663368225, 2.315060019493103, 2.3516945540905, 2.305491268634796, 2.3118812441825867, 2.432118058204651, 2.3708285689353943, 2.2943249344825745, 2.3226780593395233, 2.342849373817444, 2.362714499235153, 2.38730651140213, 2.3418461680412292, 2.3327257335186005, 2.387365221977234, 2.3193081319332123, 2.3548590540885925, 2.31549072265625, 2.294867843389511, 2.3403435349464417, 2.357419013977051, 2.278734028339386, 2.420935958623886, 2.332814037799835, 2.3336574137210846, 2.3626630902290344, 2.321486711502075, 2.3293899595737457, 2.32791668176651, 2.2942910194396973, 2.2918758392333984, 2.3253670036792755, 2.322599321603775, 2.299298018217087, 2.338871419429779, 2.393478661775589, 2.332834243774414, 2.3638945519924164, 2.33795565366745, 2.314873218536377, 2.3591268956661224, 2.3912015557289124, 2.328416168689728, 2.3321606814861298, 2.3107713162899017, 2.333514153957367, 2.3787320256233215, 2.320001929998398, 2.316521495580673, 2.354021579027176, 2.2944808900356293, 2.3585235476493835, 2.342888057231903, 2.291949510574341, 2.352732390165329, 2.385271191596985, 2.3529242873191833, 2.328302025794983, 2.3820906281471252, 2.2923007011413574, 2.3293641805648804, 2.3586892783641815, 2.2871609032154083, 2.312034785747528, 2.505847454071045, 2.363471120595932, 2.3485129475593567, 2.323342889547348, 2.306352376937866, 2.3478516042232513, 2.3424940407276154, 2.3939799666404724, 2.367515444755554, 2.340274602174759, 2.3287137746810913, 2.3772856295108795, 2.3556825816631317, 2.4260066747665405, 2.3816334009170532, 2.3126213550567627, 2.2949770987033844, 2.317997932434082, 2.288448214530945, 2.3630068600177765, 2.309175729751587, 2.282260090112686, 2.3003190755844116, 2.4521782398223877, 2.3182290494441986, 2.335410386323929, 2.302475184202194, 2.3121587336063385, 2.2610061168670654, 2.332573354244232, 2.334787040948868, 2.3086759448051453, 2.31692773103714, 2.3719464242458344, 2.371609687805176, 2.3828530311584473, 2.347311854362488, 2.2928049862384796, 2.314942806959152, 2.3326763212680817, 2.3523304760456085, 2.286969780921936, 2.323431521654129, 2.3531444668769836, 2.3005674183368683, 2.32509309053421, 2.3097700774669647, 2.2709074318408966, 2.342418849468231, 2.345371961593628, 2.2982775270938873, 2.314299136400223, 2.383427858352661, 2.3635051250457764, 2.306652843952179, 2.3249863386154175, 2.320167899131775, 2.4039307832717896, 2.328592926263809, 2.3349243998527527, 2.26246041059494, 2.3237845599651337, 2.2759329974651337, 2.30325585603714, 2.3536518812179565, 2.2625672221183777, 2.300855726003647, 2.3034849762916565, 2.3176271617412567, 2.3762600123882294, 2.3571150600910187, 2.4129166901111603, 2.3375243544578552, 2.365204304456711, 2.3207539916038513, 2.384113162755966, 2.3700076937675476, 2.387496381998062, 2.3865781724452972, 2.4137743413448334, 2.3405030369758606, 2.3938605189323425, 2.3564531207084656, 2.41850146651268, 2.282986730337143, 2.3771468102931976, 2.332446336746216, 2.293753534555435, 2.3760949671268463, 2.4015565514564514, 2.357381373643875, 2.3644882440567017, 2.3099570870399475, 2.3168220818042755, 2.3530130088329315, 2.358033925294876, 2.39675709605217, 2.297650396823883, 2.348397374153137, 2.3194269239902496, 2.316439598798752, 2.355266749858856, 2.348780542612076, 2.398489236831665, 2.362304240465164, 2.37884584069252, 2.3332564532756805, 2.376619130373001, 2.326205223798752, 2.322001576423645, 2.335525929927826, 2.3454786837100983, 2.396335870027542, 2.395639657974243, 2.341074973344803, 2.3863378763198853, 2.3115184605121613, 2.3567889630794525, 2.372184991836548, 2.3809523582458496, 2.3679175078868866, 2.3408766984939575, 2.3558129370212555, 2.3596263229846954, 2.365476071834564, 2.360134720802307, 2.3616696298122406, 2.357542932033539, 2.365854114294052, 2.365768224000931, 2.311541438102722, 2.332959830760956, 2.3337994813919067, 2.394606113433838, 2.34590682387352, 2.342097818851471, 2.3273742496967316, 2.359561115503311, 2.3104886412620544, 2.376177340745926, 2.379590928554535, 2.3871318101882935, 2.3439689576625824, 2.325384020805359, 2.343214988708496, 2.377737909555435, 2.3853385150432587, 2.402043431997299, 2.3572337925434113, 2.365842044353485, 2.3264721035957336, 2.392027974128723, 2.5044831335544586, 2.393045723438263, 2.3651484847068787, 2.3577975630760193, 2.3678949177265167, 2.427366942167282, 2.3313910365104675, 2.420518696308136, 2.457356810569763, 2.331758350133896, 2.360872358083725, 2.3943132162094116, 2.3939566612243652, 2.4027758836746216, 2.4273972511291504, 2.398879438638687, 2.417267292737961, 2.4179309010505676, 2.3587923645973206, 2.4097384810447693, 2.4353202879428864, 2.431376039981842, 2.3810391426086426, 2.355150580406189, 2.3784176111221313, 2.410238206386566, 2.4434425234794617, 2.3824909329414368, 2.415668308734894, 2.4239466786384583, 2.3775710463523865, 2.3914607763290405, 2.379681795835495, 2.3966386020183563, 2.3569939136505127, 2.4167561531066895, 2.388642907142639, 2.399763584136963, 2.415014863014221, 2.4544539749622345, 2.407836675643921, 2.4126099348068237, 2.4250587224960327, 2.406187891960144, 2.409316450357437, 2.4052876830101013, 2.434135764837265, 2.4065049588680267, 2.427121728658676]]\n"
          ]
        }
      ]
    },
    {
      "cell_type": "markdown",
      "source": [
        "### 6. Plotting the validation scores"
      ],
      "metadata": {
        "id": "C7yOCl_9COCC"
      }
    },
    {
      "cell_type": "code",
      "source": [
        "import matplotlib.pyplot as plt\n"
      ],
      "metadata": {
        "id": "gNgkzkOJCCIS"
      },
      "execution_count": null,
      "outputs": []
    },
    {
      "cell_type": "code",
      "source": [
        "plt.plot(range(1,len(average_mae_history)+1),average_mae_history)\n",
        "plt.xlabel(\"Epochs\")\n",
        "plt.ylabel(\"Validation MAE\")\n",
        "plt.show()"
      ],
      "metadata": {
        "colab": {
          "base_uri": "https://localhost:8080/",
          "height": 452
        },
        "id": "FhMG3MBLCcnG",
        "outputId": "6d596ffa-9a76-429f-973b-8f80bf067fc2"
      },
      "execution_count": null,
      "outputs": [
        {
          "output_type": "display_data",
          "data": {
            "text/plain": [
              "<Figure size 640x480 with 1 Axes>"
            ],
            "image/png": "[encoded data removed]"
          },
          "metadata": {}
        }
      ]
    },
    {
      "cell_type": "markdown",
      "source": [
        "It may be difficult to read the plot due to scaling issues as for the first few epochs validation MAE is dramatically higher. Let us omit the first 10 data points."
      ],
      "metadata": {
        "id": "mNfNwGLGC6Ry"
      }
    },
    {
      "cell_type": "code",
      "source": [
        "trun_mae_history = average_mae_history[10:]\n",
        "plt.plot(range(1,len(trun_mae_history)+1),trun_mae_history)\n",
        "plt.xlabel(\"Epochs\")\n",
        "plt.ylabel(\"Validation MAE\")\n",
        "plt.show()\n"
      ],
      "metadata": {
        "colab": {
          "base_uri": "https://localhost:8080/",
          "height": 449
        },
        "id": "yWvXWNbuCycx",
        "outputId": "83957ccf-5c7d-4df1-c95e-9e06d549efa2"
      },
      "execution_count": null,
      "outputs": [
        {
          "output_type": "display_data",
          "data": {
            "text/plain": [
              "<Figure size 640x480 with 1 Axes>"
            ],
            "image/png": "[encoded data removed]"
          },
          "metadata": {}
        }
      ]
    },
    {
      "cell_type": "markdown",
      "source": [
        "### 7. Training the final model"
      ],
      "metadata": {
        "id": "9DkvS620DjpF"
      }
    },
    {
      "cell_type": "code",
      "source": [
        "model = build_model()\n",
        "model.fit(train_data,train_targets,epochs=130,batch_size=16,verbose=0)\n",
        "test_mse_score,test_mae_score = model.evaluate(test_data,test_targets)"
      ],
      "metadata": {
        "colab": {
          "base_uri": "https://localhost:8080/"
        },
        "id": "YOpqb4KnDe2p",
        "outputId": "aef8bf3b-29f9-47cc-bb3e-ae3ce1e8b746"
      },
      "execution_count": null,
      "outputs": [
        {
          "output_type": "stream",
          "name": "stdout",
          "text": [
            "4/4 [==============================] - 0s 5ms/step - loss: 17.0949 - mae: 2.6169\n"
          ]
        }
      ]
    },
    {
      "cell_type": "code",
      "source": [
        "print([test_mae_score])"
      ],
      "metadata": {
        "colab": {
          "base_uri": "https://localhost:8080/"
        },
        "id": "VAMon2rQD75d",
        "outputId": "d34d4c1a-bc31-476f-ed56-871aee899aff"
      },
      "execution_count": null,
      "outputs": [
        {
          "output_type": "stream",
          "name": "stdout",
          "text": [
            "[2.6169378757476807]\n"
          ]
        }
      ]
    },
    {
      "cell_type": "markdown",
      "source": [
        "Our model is still off by $2600. So there is not much improvement."
      ],
      "metadata": {
        "id": "M0PCW1q0EJ4K"
      }
    },
    {
      "cell_type": "markdown",
      "source": [
        "### 8. Generating predicitions on new data"
      ],
      "metadata": {
        "id": "o0NnmaPOERsJ"
      }
    },
    {
      "cell_type": "code",
      "source": [
        "predicitions = model.predict(test_data)\n",
        "predicitions[0]"
      ],
      "metadata": {
        "colab": {
          "base_uri": "https://localhost:8080/"
        },
        "id": "UaQP0GtGEEVD",
        "outputId": "c95afd89-5e5e-4714-def6-75ed00b3cc8d"
      },
      "execution_count": null,
      "outputs": [
        {
          "output_type": "stream",
          "name": "stdout",
          "text": [
            "4/4 [==============================] - 0s 6ms/step\n"
          ]
        },
        {
          "output_type": "execute_result",
          "data": {
            "text/plain": [
              "array([9.067994], dtype=float32)"
            ]
          },
          "metadata": {},
          "execution_count": 26
        }
      ]
    },
    {
      "cell_type": "markdown",
      "source": [
        "The first house in the test set is predicted to have a price of about $9000."
      ],
      "metadata": {
        "id": "lF-ulsQOEh6i"
      }
    },
    {
      "cell_type": "code",
      "source": [],
      "metadata": {
        "id": "1N8Qslm8Eew1"
      },
      "execution_count": null,
      "outputs": []
    }
  ]
}