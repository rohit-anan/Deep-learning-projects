{
  "nbformat": 4,
  "nbformat_minor": 0,
  "metadata": {
    "colab": {
      "provenance": [],
      "gpuType": "T4",
      "authorship_tag": "ABX9TyM2j8/DvO/ArOBF0ey1RpIE",
      "include_colab_link": true
    },
    "kernelspec": {
      "name": "python3",
      "display_name": "Python 3"
    },
    "language_info": {
      "name": "python"
    },
    "accelerator": "GPU"
  },
  "cells": [
    {
      "cell_type": "markdown",
      "metadata": {
        "id": "view-in-github",
        "colab_type": "text"
      },
      "source": [
        "<a href=\"https://colab.research.google.com/github/rohit-anan/Deep-learning-projects/blob/main/Neural_Networks_Binary_Classification.ipynb\" target=\"_parent\"><img src=\"https://colab.research.google.com/assets/colab-badge.svg\" alt=\"Open In Colab\"/></a>"
      ]
    },
    {
      "cell_type": "markdown",
      "source": [
        "# **BINARY CLASSIFICATION**\n",
        "\n",
        "* ### CLASSIFYING MOVIE REVIEWS"
      ],
      "metadata": {
        "id": "t4MdVR4sz6EW"
      }
    },
    {
      "cell_type": "markdown",
      "source": [
        "1. Loading the IMDB DATASET\n",
        "\n",
        "Consists of 50,000 polarizing reviews, already split into two batches of 25,000 reviews each for training and testing."
      ],
      "metadata": {
        "id": "27A-Cs7M0Qct"
      }
    },
    {
      "cell_type": "code",
      "execution_count": null,
      "metadata": {
        "id": "1qf380D_v6my"
      },
      "outputs": [],
      "source": [
        "from tensorflow.keras.datasets import imdb"
      ]
    },
    {
      "cell_type": "code",
      "source": [
        "(train_data,train_labels),(test_data,test_labels) = imdb.load_data(num_words=10000)"
      ],
      "metadata": {
        "colab": {
          "base_uri": "https://localhost:8080/"
        },
        "id": "8bFw7QX80t0U",
        "outputId": "ba00bd30-4255-4aa4-a2be-b67267b7e32b"
      },
      "execution_count": null,
      "outputs": [
        {
          "output_type": "stream",
          "name": "stdout",
          "text": [
            "Downloading data from https://storage.googleapis.com/tensorflow/tf-keras-datasets/imdb.npz\n",
            "17464789/17464789 [==============================] - 0s 0us/step\n"
          ]
        }
      ]
    },
    {
      "cell_type": "markdown",
      "source": [
        "Here train_data and test_labels are a list of words. Train_data is a list of encoded sequence of words and train_labels are a list of 0s and 1s."
      ],
      "metadata": {
        "id": "8uIdE4on1SSG"
      }
    },
    {
      "cell_type": "code",
      "source": [
        "train_labels[0]"
      ],
      "metadata": {
        "colab": {
          "base_uri": "https://localhost:8080/"
        },
        "id": "nUlecZi71BrY",
        "outputId": "eeaf3c73-f3c3-4694-a7be-92f56ce3d7d1"
      },
      "execution_count": null,
      "outputs": [
        {
          "output_type": "execute_result",
          "data": {
            "text/plain": [
              "1"
            ]
          },
          "metadata": {},
          "execution_count": 3
        }
      ]
    },
    {
      "cell_type": "markdown",
      "source": [
        "Decoding reviews back to text."
      ],
      "metadata": {
        "id": "hT94Qy5u_6lI"
      }
    },
    {
      "cell_type": "code",
      "source": [
        "word_index = imdb.get_word_index()\n",
        "rev_word_index = dict([(value,key) for (key,value) in word_index.items()])\n",
        "decoded_review = \" \".join(\n",
        "    [rev_word_index.get(i-3,\"?\") for i in train_data[0]]\n",
        ")"
      ],
      "metadata": {
        "colab": {
          "base_uri": "https://localhost:8080/"
        },
        "id": "MG0T5AWz16OL",
        "outputId": "6c45178f-3b09-4653-877a-1a9be4f790fc"
      },
      "execution_count": null,
      "outputs": [
        {
          "output_type": "stream",
          "name": "stdout",
          "text": [
            "Downloading data from https://storage.googleapis.com/tensorflow/tf-keras-datasets/imdb_word_index.json\n",
            "1641221/1641221 [==============================] - 0s 0us/step\n"
          ]
        }
      ]
    },
    {
      "cell_type": "code",
      "source": [
        "print(f\"the decoded review is:{decoded_review}\")"
      ],
      "metadata": {
        "colab": {
          "base_uri": "https://localhost:8080/"
        },
        "id": "zbez7EiHAhau",
        "outputId": "eb355dc1-aca8-4597-9716-f1c50563d2bf"
      },
      "execution_count": null,
      "outputs": [
        {
          "output_type": "stream",
          "name": "stdout",
          "text": [
            "the decoded review is:? this film was just brilliant casting location scenery story direction everyone's really suited the part they played and you could just imagine being there robert ? is an amazing actor and now the same being director ? father came from the same scottish island as myself so i loved the fact there was a real connection with this film the witty remarks throughout the film were great it was just brilliant so much that i bought the film as soon as it was released for ? and would recommend it to everyone to watch and the fly fishing was amazing really cried at the end it was so sad and you know what they say if you cry at a film it must have been good and this definitely was also ? to the two little boy's that played the ? of norman and paul they were just brilliant children are often left out of the ? list i think because the stars that play them all grown up are such a big profile for the whole film but these children are amazing and should be praised for what they have done don't you think the whole story was so lovely because it was true and was someone's life after all that was shared with us all\n"
          ]
        }
      ]
    },
    {
      "cell_type": "markdown",
      "source": [
        "2. Preparing the data\n",
        "\n",
        "We will use multi-code encoding\n"
      ],
      "metadata": {
        "id": "XuxgO3amFMLo"
      }
    },
    {
      "cell_type": "code",
      "source": [
        "import numpy as np"
      ],
      "metadata": {
        "id": "K0QhRPXrBBMe"
      },
      "execution_count": null,
      "outputs": []
    },
    {
      "cell_type": "code",
      "source": [
        "def vectorize_sequences(sequences, dimension=10000):\n",
        "    results = np.zeros((len(sequences), dimension))\n",
        "    for i, sequence in enumerate(sequences):\n",
        "        for j in sequence:\n",
        "            results[i, j] = 1.\n",
        "    return results\n"
      ],
      "metadata": {
        "id": "in2WqF-fY_4q"
      },
      "execution_count": null,
      "outputs": []
    },
    {
      "cell_type": "markdown",
      "source": [
        "Vectorizing out training and testing labels and data:"
      ],
      "metadata": {
        "id": "ikbtM3i_TRtq"
      }
    },
    {
      "cell_type": "code",
      "source": [
        "x_train = vectorize_sequences(train_data)\n",
        "x_test = vectorize_sequences(test_data)\n",
        "y_train = np.array(train_labels).astype(\"float32\")\n",
        "y_test = np.array(test_labels).astype(\"float32\")\n"
      ],
      "metadata": {
        "id": "7PmBFbmuQhJY"
      },
      "execution_count": null,
      "outputs": []
    },
    {
      "cell_type": "markdown",
      "source": [
        "3. Building our model\n",
        "\n",
        "Our model is a plain stack of densely connected (Dense) layers with relu activation."
      ],
      "metadata": {
        "id": "F_pgR30qVI1K"
      }
    },
    {
      "cell_type": "code",
      "source": [
        "from tensorflow import keras\n",
        "from tensorflow.keras import layers\n"
      ],
      "metadata": {
        "id": "NQ_YRVIgT2RT"
      },
      "execution_count": null,
      "outputs": []
    },
    {
      "cell_type": "code",
      "source": [
        "model = keras.Sequential([\n",
        "    layers.Dense(16,activation=\"relu\"),\n",
        "    layers.Dense(16,activation=\"relu\"),\n",
        "    layers.Dense(1,activation=\"sigmoid\")\n",
        "])"
      ],
      "metadata": {
        "id": "qYrfTOuJVmud"
      },
      "execution_count": null,
      "outputs": []
    },
    {
      "cell_type": "markdown",
      "source": [
        "4. Compiling our model"
      ],
      "metadata": {
        "id": "-nNQV9FN-o0q"
      }
    },
    {
      "cell_type": "markdown",
      "source": [
        "Now we need to select an optimizer and loss function for our model.\n",
        "\n",
        "Optimizer ---> rmsprop\n",
        "\n",
        "Loss function ---> binary cross-entropy"
      ],
      "metadata": {
        "id": "uoKXBCCP-T_d"
      }
    },
    {
      "cell_type": "code",
      "source": [
        "model.compile(optimizer='rmsprop',\n",
        "              loss = 'binary_crossentropy',\n",
        "              metrics = [\"accuracy\"])"
      ],
      "metadata": {
        "id": "laTalEHbWEfE"
      },
      "execution_count": null,
      "outputs": []
    },
    {
      "cell_type": "markdown",
      "source": [
        "4. Validating our approach\n",
        "\n",
        "We need to create a validation set by setting apart some samples(10000) from the original training data. A deep learning model should never be evaluated on its trainig data."
      ],
      "metadata": {
        "id": "ed44ym-3Az5m"
      }
    },
    {
      "cell_type": "code",
      "source": [
        "x_val = x_train[10000:]\n",
        "partial_x_train = x_train[10000:]\n",
        "y_val = y_train[10000:]\n",
        "partial_y_train = y_train[10000:]\n"
      ],
      "metadata": {
        "id": "9lV3h2IXBJJz"
      },
      "execution_count": null,
      "outputs": []
    },
    {
      "cell_type": "markdown",
      "source": [
        "5. Training our model\n",
        "\n",
        "We will train our model for 20 epochs in mini-batches of 512 samples. At the same time, we will monitor loss and accuracy on the 10,000 samples that we set apart."
      ],
      "metadata": {
        "id": "zw8BjqPsB93D"
      }
    },
    {
      "cell_type": "code",
      "source": [
        "history = model.fit(partial_x_train,\n",
        "                    partial_y_train,\n",
        "                    epochs=20,\n",
        "                    batch_size=512,\n",
        "                    validation_data=(x_val,y_val))"
      ],
      "metadata": {
        "colab": {
          "base_uri": "https://localhost:8080/"
        },
        "id": "0Mj6SEyXBhUA",
        "outputId": "92d60474-f03e-4384-b29e-72285926a3b4"
      },
      "execution_count": null,
      "outputs": [
        {
          "output_type": "stream",
          "name": "stdout",
          "text": [
            "Epoch 1/20\n",
            "30/30 [==============================] - 6s 159ms/step - loss: 0.5414 - accuracy: 0.7738 - val_loss: 0.3891 - val_accuracy: 0.8845\n",
            "Epoch 2/20\n",
            "30/30 [==============================] - 7s 243ms/step - loss: 0.3367 - accuracy: 0.8903 - val_loss: 0.2984 - val_accuracy: 0.8923\n",
            "Epoch 3/20\n",
            "30/30 [==============================] - 2s 58ms/step - loss: 0.2549 - accuracy: 0.9155 - val_loss: 0.2071 - val_accuracy: 0.9379\n",
            "Epoch 4/20\n",
            "30/30 [==============================] - 2s 77ms/step - loss: 0.2054 - accuracy: 0.9305 - val_loss: 0.1734 - val_accuracy: 0.9470\n",
            "Epoch 5/20\n",
            "30/30 [==============================] - 1s 47ms/step - loss: 0.1716 - accuracy: 0.9438 - val_loss: 0.1436 - val_accuracy: 0.9561\n",
            "Epoch 6/20\n",
            "30/30 [==============================] - 2s 54ms/step - loss: 0.1463 - accuracy: 0.9523 - val_loss: 0.1226 - val_accuracy: 0.9650\n",
            "Epoch 7/20\n",
            "30/30 [==============================] - 2s 80ms/step - loss: 0.1276 - accuracy: 0.9603 - val_loss: 0.0993 - val_accuracy: 0.9749\n",
            "Epoch 8/20\n",
            "30/30 [==============================] - 3s 109ms/step - loss: 0.1065 - accuracy: 0.9699 - val_loss: 0.0849 - val_accuracy: 0.9798\n",
            "Epoch 9/20\n",
            "30/30 [==============================] - 2s 53ms/step - loss: 0.0914 - accuracy: 0.9745 - val_loss: 0.0695 - val_accuracy: 0.9853\n",
            "Epoch 10/20\n",
            "30/30 [==============================] - 2s 55ms/step - loss: 0.0816 - accuracy: 0.9772 - val_loss: 0.0632 - val_accuracy: 0.9873\n",
            "Epoch 11/20\n",
            "30/30 [==============================] - 2s 53ms/step - loss: 0.0670 - accuracy: 0.9842 - val_loss: 0.0539 - val_accuracy: 0.9883\n",
            "Epoch 12/20\n",
            "30/30 [==============================] - 2s 55ms/step - loss: 0.0574 - accuracy: 0.9863 - val_loss: 0.0403 - val_accuracy: 0.9941\n",
            "Epoch 13/20\n",
            "30/30 [==============================] - 2s 55ms/step - loss: 0.0494 - accuracy: 0.9898 - val_loss: 0.0338 - val_accuracy: 0.9957\n",
            "Epoch 14/20\n",
            "30/30 [==============================] - 3s 88ms/step - loss: 0.0414 - accuracy: 0.9919 - val_loss: 0.0307 - val_accuracy: 0.9960\n",
            "Epoch 15/20\n",
            "30/30 [==============================] - 2s 58ms/step - loss: 0.0336 - accuracy: 0.9945 - val_loss: 0.0235 - val_accuracy: 0.9978\n",
            "Epoch 16/20\n",
            "30/30 [==============================] - 2s 55ms/step - loss: 0.0299 - accuracy: 0.9947 - val_loss: 0.0196 - val_accuracy: 0.9986\n",
            "Epoch 17/20\n",
            "30/30 [==============================] - 2s 77ms/step - loss: 0.0246 - accuracy: 0.9963 - val_loss: 0.0156 - val_accuracy: 0.9993\n",
            "Epoch 18/20\n",
            "30/30 [==============================] - 2s 53ms/step - loss: 0.0202 - accuracy: 0.9977 - val_loss: 0.0149 - val_accuracy: 0.9995\n",
            "Epoch 19/20\n",
            "30/30 [==============================] - 2s 53ms/step - loss: 0.0168 - accuracy: 0.9984 - val_loss: 0.0133 - val_accuracy: 0.9995\n",
            "Epoch 20/20\n",
            "30/30 [==============================] - 2s 53ms/step - loss: 0.0129 - accuracy: 0.9992 - val_loss: 0.0095 - val_accuracy: 0.9998\n"
          ]
        }
      ]
    },
    {
      "cell_type": "markdown",
      "source": [
        "6. Plotting the training and validation loss"
      ],
      "metadata": {
        "id": "uuVaCYElDOzz"
      }
    },
    {
      "cell_type": "code",
      "source": [
        "import matplotlib.pyplot as plt\n",
        "history_dict = history.history\n",
        "loss_values=history_dict[\"loss\"]\n",
        "val_loss_values = history_dict[\"val_loss\"]\n",
        "epochs = range(1,len(loss_values)+1)\n",
        "plt.plot(epochs,loss_values,\"bo\",label=\"Training Loss\")\n",
        "plt.plot(epochs,val_loss_values,\"b\",label=\"Validation Loss\")\n",
        "plt.title(\"Training and validation loss\")\n",
        "plt.xlabel(\"Epochs\")\n",
        "plt.ylabel(\"Loss\")\n",
        "plt.legend()\n",
        "plt.show()\n"
      ],
      "metadata": {
        "colab": {
          "base_uri": "https://localhost:8080/",
          "height": 472
        },
        "id": "hcykAynDCzow",
        "outputId": "660c75b5-a096-44a4-847a-63098a23c677"
      },
      "execution_count": null,
      "outputs": [
        {
          "output_type": "display_data",
          "data": {
            "text/plain": [
              "<Figure size 640x480 with 1 Axes>"
            ],
            "image/png": "[encoded data removed]"
          },
          "metadata": {}
        }
      ]
    },
    {
      "cell_type": "markdown",
      "source": [
        "7. Plotting training and validation accuracy"
      ],
      "metadata": {
        "id": "34SFG7MQEodK"
      }
    },
    {
      "cell_type": "code",
      "source": [
        "plt.clf()\n",
        "acc = history_dict[\"accuracy\"]\n",
        "val_acc = history_dict[\"val_accuracy\"]\n",
        "plt.plot(epochs,acc,\"bo\",label=\"Training acc\")\n",
        "plt.plot(epochs,val_acc,\"b\",label=\"Validation acc\")\n",
        "plt.title(\"Training and validation accuracy\")\n",
        "plt.xlabel(\"Epochs\")\n",
        "plt.ylabel(\"Accuracy\")\n",
        "plt.legend()\n",
        "plt.show()\n",
        "\n"
      ],
      "metadata": {
        "colab": {
          "base_uri": "https://localhost:8080/",
          "height": 472
        },
        "id": "20TLolAdEUTC",
        "outputId": "a159ccfb-a51a-4a3c-9ddc-8bc4a608174e"
      },
      "execution_count": null,
      "outputs": [
        {
          "output_type": "display_data",
          "data": {
            "text/plain": [
              "<Figure size 640x480 with 1 Axes>"
            ],
            "image/png": "[encoded data removed]"
          },
          "metadata": {}
        }
      ]
    },
    {
      "cell_type": "markdown",
      "source": [
        "As we can see, the training loss decreases with every epoch and the training accuracy increases with every epoch."
      ],
      "metadata": {
        "id": "s3AX_l7HFUCa"
      }
    },
    {
      "cell_type": "markdown",
      "source": [
        "8. Using a trained model to generate predictions on new data"
      ],
      "metadata": {
        "id": "UnGbtr0aGIMz"
      }
    },
    {
      "cell_type": "code",
      "source": [
        "model.predict(x_test)"
      ],
      "metadata": {
        "colab": {
          "base_uri": "https://localhost:8080/"
        },
        "id": "JXnx_pyVFNX1",
        "outputId": "7d7875d6-2053-4304-c8e0-157d7503a6ac"
      },
      "execution_count": null,
      "outputs": [
        {
          "output_type": "stream",
          "name": "stdout",
          "text": [
            "782/782 [==============================] - 4s 5ms/step\n"
          ]
        },
        {
          "output_type": "execute_result",
          "data": {
            "text/plain": [
              "array([[0.01416407],\n",
              "       [0.99999875],\n",
              "       [0.79407847],\n",
              "       ...,\n",
              "       [0.00166292],\n",
              "       [0.00306988],\n",
              "       [0.8281262 ]], dtype=float32)"
            ]
          },
          "metadata": {},
          "execution_count": 19
        }
      ]
    },
    {
      "cell_type": "markdown",
      "source": [
        "The model is confident for some samples(0.999..) but not so confident for other samples (0.00166...)."
      ],
      "metadata": {
        "id": "LODtl4cxGn3L"
      }
    },
    {
      "cell_type": "markdown",
      "source": [
        "9. Further experiments\n",
        "\n",
        "Using different activation function, optimizer and loss function."
      ],
      "metadata": {
        "id": "ToHPR-4iLvFZ"
      }
    },
    {
      "cell_type": "code",
      "source": [
        "rev_model = keras.Sequential([\n",
        "    layers.Dense(16,activation=\"tanh\"),\n",
        "    layers.Dense(16,activation=\"tanh\"),\n",
        "    layers.Dense(1,activation=\"sigmoid\")\n",
        "])"
      ],
      "metadata": {
        "id": "udXJc-NCGRre"
      },
      "execution_count": null,
      "outputs": []
    },
    {
      "cell_type": "code",
      "source": [
        "rev_model.compile(optimizer=\"rmsprop\",\n",
        "              loss=\"mse\",\n",
        "              metrics=[\"accuracy\"])"
      ],
      "metadata": {
        "id": "KjaI_yFRIBcc"
      },
      "execution_count": null,
      "outputs": []
    },
    {
      "cell_type": "code",
      "source": [
        "rev_model.fit(x_train,y_train,epochs=5,batch_size=512)\n"
      ],
      "metadata": {
        "colab": {
          "base_uri": "https://localhost:8080/"
        },
        "id": "T3aPHFm3IUjB",
        "outputId": "5aa09022-1b82-4e98-f4dc-4eb7f2a95e00"
      },
      "execution_count": null,
      "outputs": [
        {
          "output_type": "stream",
          "name": "stdout",
          "text": [
            "Epoch 1/5\n",
            "49/49 [==============================] - 2s 35ms/step - loss: 0.1587 - accuracy: 0.8088\n",
            "Epoch 2/5\n",
            "49/49 [==============================] - 2s 47ms/step - loss: 0.0866 - accuracy: 0.8944\n",
            "Epoch 3/5\n",
            "49/49 [==============================] - 3s 55ms/step - loss: 0.0665 - accuracy: 0.9151\n",
            "Epoch 4/5\n",
            "49/49 [==============================] - 2s 39ms/step - loss: 0.0549 - accuracy: 0.9322\n",
            "Epoch 5/5\n",
            "49/49 [==============================] - 2s 40ms/step - loss: 0.0479 - accuracy: 0.9415\n"
          ]
        },
        {
          "output_type": "execute_result",
          "data": {
            "text/plain": [
              "<keras.src.callbacks.History at 0x7f5b3a297580>"
            ]
          },
          "metadata": {},
          "execution_count": 32
        }
      ]
    },
    {
      "cell_type": "code",
      "source": [
        "rev_results=rev_model.evaluate(x_test,y_test)"
      ],
      "metadata": {
        "colab": {
          "base_uri": "https://localhost:8080/"
        },
        "id": "NrDQxK_EIzl2",
        "outputId": "ee8b992b-6d99-484b-eb8f-61685d605604"
      },
      "execution_count": null,
      "outputs": [
        {
          "output_type": "stream",
          "name": "stdout",
          "text": [
            "782/782 [==============================] - 3s 3ms/step - loss: 0.0911 - accuracy: 0.8776\n"
          ]
        }
      ]
    },
    {
      "cell_type": "code",
      "source": [
        "rev_results"
      ],
      "metadata": {
        "colab": {
          "base_uri": "https://localhost:8080/"
        },
        "id": "AFjSY4JHJT7k",
        "outputId": "3c3a905f-f99b-46eb-89df-db4493e6d594"
      },
      "execution_count": null,
      "outputs": [
        {
          "output_type": "execute_result",
          "data": {
            "text/plain": [
              "[0.09114796668291092, 0.8776000142097473]"
            ]
          },
          "metadata": {},
          "execution_count": 34
        }
      ]
    },
    {
      "cell_type": "code",
      "source": [],
      "metadata": {
        "id": "bATMvmTVJVA0"
      },
      "execution_count": null,
      "outputs": []
    }
  ]
}