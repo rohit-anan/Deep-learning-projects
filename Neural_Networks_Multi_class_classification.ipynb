{
  "nbformat": 4,
  "nbformat_minor": 0,
  "metadata": {
    "colab": {
      "provenance": [],
      "authorship_tag": "ABX9TyM1kEiy2OX9NmefCPoSnx2b",
      "include_colab_link": true
    },
    "kernelspec": {
      "name": "python3",
      "display_name": "Python 3"
    },
    "language_info": {
      "name": "python"
    }
  },
  "cells": [
    {
      "cell_type": "markdown",
      "metadata": {
        "id": "view-in-github",
        "colab_type": "text"
      },
      "source": [
        "<a href=\"https://colab.research.google.com/github/rohit-anan/Deep-learning-projects/blob/main/Neural_Networks_Multi_class_classification.ipynb\" target=\"_parent\"><img src=\"https://colab.research.google.com/assets/colab-badge.svg\" alt=\"Open In Colab\"/></a>"
      ]
    },
    {
      "cell_type": "markdown",
      "source": [
        "# **MULTI-CLASS CLASSIFICATION**\n",
        "\n",
        "* ## CLASSIFYING NEWSWIRES"
      ],
      "metadata": {
        "id": "-VhvT4e9EN7K"
      }
    },
    {
      "cell_type": "markdown",
      "source": [
        "### 1. Loading the Reuters data set\n",
        "\n"
      ],
      "metadata": {
        "id": "r-a6zVWvEhlC"
      }
    },
    {
      "cell_type": "markdown",
      "source": [
        "1.a. The dataset\n",
        "\n",
        "It is a set of short newswires and their topics."
      ],
      "metadata": {
        "id": "5e9baxOqKpG-"
      }
    },
    {
      "cell_type": "code",
      "source": [
        "import numpy as np"
      ],
      "metadata": {
        "id": "Vo8KzWErL579"
      },
      "execution_count": null,
      "outputs": []
    },
    {
      "cell_type": "code",
      "execution_count": null,
      "metadata": {
        "id": "BdkhW0siD4_w"
      },
      "outputs": [],
      "source": [
        "from tensorflow.keras.datasets import reuters"
      ]
    },
    {
      "cell_type": "code",
      "source": [
        "(train_data,train_labels),(test_data,test_labels)=reuters.load_data(num_words=10000)"
      ],
      "metadata": {
        "id": "YT4rljmsE8Xm"
      },
      "execution_count": null,
      "outputs": []
    },
    {
      "cell_type": "markdown",
      "source": [
        "The 'num_words=10000' restricts the data to the 10,000 most frequently occuring words found in the data."
      ],
      "metadata": {
        "id": "MNuSLh7JFbbI"
      }
    },
    {
      "cell_type": "code",
      "source": [
        "len(train_data)"
      ],
      "metadata": {
        "colab": {
          "base_uri": "https://localhost:8080/"
        },
        "id": "Pg2R7CGSFMnl",
        "outputId": "f5eb11b8-ecff-4f25-b5cb-04b59f45a124"
      },
      "execution_count": null,
      "outputs": [
        {
          "output_type": "execute_result",
          "data": {
            "text/plain": [
              "8982"
            ]
          },
          "metadata": {},
          "execution_count": 4
        }
      ]
    },
    {
      "cell_type": "code",
      "source": [
        "print(train_data[10])  # each example is a set of integers(word indices)"
      ],
      "metadata": {
        "colab": {
          "base_uri": "https://localhost:8080/"
        },
        "id": "lfTAKulzF94N",
        "outputId": "7d5817ee-40a3-4fcb-9c8e-d64f1bc0aea2"
      },
      "execution_count": null,
      "outputs": [
        {
          "output_type": "stream",
          "name": "stdout",
          "text": [
            "[1, 245, 273, 207, 156, 53, 74, 160, 26, 14, 46, 296, 26, 39, 74, 2979, 3554, 14, 46, 4689, 4329, 86, 61, 3499, 4795, 14, 61, 451, 4329, 17, 12]\n"
          ]
        }
      ]
    },
    {
      "cell_type": "markdown",
      "source": [
        "1.b. Decoding the newswires back to text"
      ],
      "metadata": {
        "id": "finGLIyfGUqh"
      }
    },
    {
      "cell_type": "code",
      "source": [
        "word_index = reuters.get_word_index()\n",
        "reverse_word_index = dict(\n",
        "    [(value,key)for(key,value) in word_index.items()])\n",
        "decoded_newswires = \" \".join(\n",
        "    [reverse_word_index.get(i - 3, \"?\") for i in train_data[0]]\n",
        ")\n"
      ],
      "metadata": {
        "id": "gsp_gaHEGH-k"
      },
      "execution_count": null,
      "outputs": []
    },
    {
      "cell_type": "code",
      "source": [
        "train_labels[10]"
      ],
      "metadata": {
        "colab": {
          "base_uri": "https://localhost:8080/"
        },
        "id": "xmZ0JEqzHgcS",
        "outputId": "0baaa25e-0675-46f2-baf5-c9700c537620"
      },
      "execution_count": null,
      "outputs": [
        {
          "output_type": "execute_result",
          "data": {
            "text/plain": [
              "3"
            ]
          },
          "metadata": {},
          "execution_count": 10
        }
      ]
    },
    {
      "cell_type": "markdown",
      "source": [
        "### 2. Preparing the data"
      ],
      "metadata": {
        "id": "l9QBCuB-IL55"
      }
    },
    {
      "cell_type": "markdown",
      "source": [
        "2.a. Encoding the input data"
      ],
      "metadata": {
        "id": "AmrCC8kLKgtg"
      }
    },
    {
      "cell_type": "code",
      "source": [
        "def vectorize_sequences(sequences,dimension=10000):\n",
        "  results = np.zeros((len(sequences),dimension))\n",
        "  for i,sequence in enumerate(sequences):\n",
        "    for j in sequence:\n",
        "      results[i,j]=1\n",
        "  return results"
      ],
      "metadata": {
        "id": "ZA6Pdi07Len-"
      },
      "execution_count": null,
      "outputs": []
    },
    {
      "cell_type": "code",
      "source": [
        "x_train = vectorize_sequences(train_data)\n",
        "x_test = vectorize_sequences(test_data)"
      ],
      "metadata": {
        "id": "jHyj72OJIJac"
      },
      "execution_count": null,
      "outputs": []
    },
    {
      "cell_type": "markdown",
      "source": [
        "2.b. Encoding the labels"
      ],
      "metadata": {
        "id": "Ehh_o2L9NSou"
      }
    },
    {
      "cell_type": "code",
      "source": [
        "def to_one_hot(labels,dimension=46):\n",
        "  results = np.zeros((len(labels),dimension))\n",
        "  for i,label in enumerate(labels):\n",
        "    results[i,label]=1.\n",
        "  return results"
      ],
      "metadata": {
        "id": "c1qj8bMlNQaW"
      },
      "execution_count": null,
      "outputs": []
    },
    {
      "cell_type": "code",
      "source": [
        "y_train = to_one_hot(train_labels)\n",
        "y_test = to_one_hot(test_labels)"
      ],
      "metadata": {
        "id": "p8wi1Z4PLY5y"
      },
      "execution_count": null,
      "outputs": []
    },
    {
      "cell_type": "markdown",
      "source": [
        "there is also a built-in way to do this in keras."
      ],
      "metadata": {
        "id": "Oq5y6pUHQvI1"
      }
    },
    {
      "cell_type": "code",
      "source": [
        "from tensorflow.keras.utils import to_categorical\n",
        "y_train = to_categorical(train_labels)\n",
        "y_test = to_categorical(test_labels)"
      ],
      "metadata": {
        "id": "VprGFi3sQsYE"
      },
      "execution_count": null,
      "outputs": []
    },
    {
      "cell_type": "markdown",
      "source": [
        "### 3. Building our model"
      ],
      "metadata": {
        "id": "bO6zrdqJREXk"
      }
    },
    {
      "cell_type": "markdown",
      "source": [
        "3.a. Model definition"
      ],
      "metadata": {
        "id": "zL9FYjdDSY2X"
      }
    },
    {
      "cell_type": "code",
      "source": [
        "from tensorflow import keras\n",
        "from keras import layers"
      ],
      "metadata": {
        "id": "wfe9dURIS0Nr"
      },
      "execution_count": null,
      "outputs": []
    },
    {
      "cell_type": "code",
      "source": [
        "model = keras.Sequential([\n",
        "    layers.Dense(64,activation='relu'),\n",
        "    layers.Dense(64,activation='relu'),\n",
        "    layers.Dense(46,activation='softmax')\n",
        "])"
      ],
      "metadata": {
        "id": "mdMVC0dCRCYg"
      },
      "execution_count": null,
      "outputs": []
    },
    {
      "cell_type": "markdown",
      "source": [
        "3.b. Compiling the model"
      ],
      "metadata": {
        "id": "1e2zHDABUGef"
      }
    },
    {
      "cell_type": "code",
      "source": [
        "model.compile(optimizer=\"rmsprop\",\n",
        "              loss = \"categorical_crossentropy\",\n",
        "              metrics = [\"accuracy\"])"
      ],
      "metadata": {
        "id": "vjoHGUxmS53D"
      },
      "execution_count": null,
      "outputs": []
    },
    {
      "cell_type": "markdown",
      "source": [
        "### 4. Validating our approach"
      ],
      "metadata": {
        "id": "AbyIblJPUYeb"
      }
    },
    {
      "cell_type": "markdown",
      "source": [
        "4.a. Setting apart 1000 samples as validation set."
      ],
      "metadata": {
        "id": "V2_ocsioUi7U"
      }
    },
    {
      "cell_type": "code",
      "source": [
        "x_val = x_train[:1000]\n",
        "partial_x_train = x_train[1000:]\n",
        "y_val = y_train[:1000]\n",
        "partial_y_train = y_train[1000:]\n"
      ],
      "metadata": {
        "id": "BjlIbwkCUWvl"
      },
      "execution_count": null,
      "outputs": []
    },
    {
      "cell_type": "markdown",
      "source": [
        "4.b. Training the model"
      ],
      "metadata": {
        "id": "KVfjRo23VB-4"
      }
    },
    {
      "cell_type": "code",
      "source": [
        "history = model.fit(partial_x_train,\n",
        "                    partial_y_train,\n",
        "                    epochs=20,\n",
        "                    batch_size=512,\n",
        "                    validation_data=(x_val,y_val))"
      ],
      "metadata": {
        "colab": {
          "base_uri": "https://localhost:8080/"
        },
        "id": "ZG_Vl5kXU56u",
        "outputId": "9aae9d5f-2a09-4e12-83a1-b2fb95b7a691"
      },
      "execution_count": null,
      "outputs": [
        {
          "output_type": "stream",
          "name": "stdout",
          "text": [
            "Epoch 1/20\n",
            "16/16 [==============================] - 3s 102ms/step - loss: 2.7574 - accuracy: 0.4783 - val_loss: 1.9311 - val_accuracy: 0.5970\n",
            "Epoch 2/20\n",
            "16/16 [==============================] - 1s 45ms/step - loss: 1.6369 - accuracy: 0.6572 - val_loss: 1.4419 - val_accuracy: 0.6750\n",
            "Epoch 3/20\n",
            "16/16 [==============================] - 1s 48ms/step - loss: 1.2517 - accuracy: 0.7250 - val_loss: 1.2278 - val_accuracy: 0.7170\n",
            "Epoch 4/20\n",
            "16/16 [==============================] - 1s 51ms/step - loss: 1.0241 - accuracy: 0.7764 - val_loss: 1.1188 - val_accuracy: 0.7330\n",
            "Epoch 5/20\n",
            "16/16 [==============================] - 1s 47ms/step - loss: 0.8533 - accuracy: 0.8143 - val_loss: 1.0516 - val_accuracy: 0.7640\n",
            "Epoch 6/20\n",
            "16/16 [==============================] - 1s 43ms/step - loss: 0.7097 - accuracy: 0.8505 - val_loss: 0.9930 - val_accuracy: 0.7850\n",
            "Epoch 7/20\n",
            "16/16 [==============================] - 1s 45ms/step - loss: 0.5932 - accuracy: 0.8742 - val_loss: 0.9212 - val_accuracy: 0.8140\n",
            "Epoch 8/20\n",
            "16/16 [==============================] - 1s 45ms/step - loss: 0.5008 - accuracy: 0.8960 - val_loss: 0.8875 - val_accuracy: 0.8110\n",
            "Epoch 9/20\n",
            "16/16 [==============================] - 1s 52ms/step - loss: 0.4232 - accuracy: 0.9129 - val_loss: 0.8657 - val_accuracy: 0.8160\n",
            "Epoch 10/20\n",
            "16/16 [==============================] - 1s 55ms/step - loss: 0.3597 - accuracy: 0.9253 - val_loss: 0.9041 - val_accuracy: 0.8070\n",
            "Epoch 11/20\n",
            "16/16 [==============================] - 1s 49ms/step - loss: 0.3074 - accuracy: 0.9349 - val_loss: 0.8385 - val_accuracy: 0.8150\n",
            "Epoch 12/20\n",
            "16/16 [==============================] - 1s 45ms/step - loss: 0.2645 - accuracy: 0.9431 - val_loss: 0.8601 - val_accuracy: 0.8110\n",
            "Epoch 13/20\n",
            "16/16 [==============================] - 1s 42ms/step - loss: 0.2372 - accuracy: 0.9449 - val_loss: 0.8372 - val_accuracy: 0.8200\n",
            "Epoch 14/20\n",
            "16/16 [==============================] - 1s 43ms/step - loss: 0.2105 - accuracy: 0.9490 - val_loss: 0.8569 - val_accuracy: 0.8180\n",
            "Epoch 15/20\n",
            "16/16 [==============================] - 1s 77ms/step - loss: 0.1905 - accuracy: 0.9518 - val_loss: 0.8604 - val_accuracy: 0.8170\n",
            "Epoch 16/20\n",
            "16/16 [==============================] - 1s 84ms/step - loss: 0.1756 - accuracy: 0.9538 - val_loss: 0.8700 - val_accuracy: 0.8210\n",
            "Epoch 17/20\n",
            "16/16 [==============================] - 1s 48ms/step - loss: 0.1607 - accuracy: 0.9551 - val_loss: 0.8791 - val_accuracy: 0.8190\n",
            "Epoch 18/20\n",
            "16/16 [==============================] - 1s 50ms/step - loss: 0.1503 - accuracy: 0.9554 - val_loss: 0.8667 - val_accuracy: 0.8190\n",
            "Epoch 19/20\n",
            "16/16 [==============================] - 1s 51ms/step - loss: 0.1456 - accuracy: 0.9558 - val_loss: 0.9211 - val_accuracy: 0.8140\n",
            "Epoch 20/20\n",
            "16/16 [==============================] - 1s 51ms/step - loss: 0.1377 - accuracy: 0.9569 - val_loss: 0.9102 - val_accuracy: 0.8160\n"
          ]
        }
      ]
    },
    {
      "cell_type": "markdown",
      "source": [
        "### 5. Plotting accuracy and loss"
      ],
      "metadata": {
        "id": "V0RNMCdDVuuU"
      }
    },
    {
      "cell_type": "markdown",
      "source": [
        "5.a. Plotting the training and validation loss"
      ],
      "metadata": {
        "id": "pC94b3ASV76t"
      }
    },
    {
      "cell_type": "code",
      "source": [
        "import matplotlib.pyplot as plt\n",
        "loss = history.history[\"loss\"]\n",
        "val_loss=history.history[\"val_loss\"]\n",
        "epochs = range(1,len(loss)+1)\n",
        "plt.plot(epochs,loss,\"bo\",label=\"Training Loss\")\n",
        "plt.plot(epochs,val_loss,\"b\",label=\"Validation Loss\")\n",
        "plt.title(\"Training and validation loss\")\n",
        "plt.xlabel(\"Epochs\")\n",
        "plt.ylabel(\"Loss\")\n",
        "plt.legend()\n",
        "plt.show()"
      ],
      "metadata": {
        "colab": {
          "base_uri": "https://localhost:8080/",
          "height": 472
        },
        "id": "kuT1uLDuVXk_",
        "outputId": "d6cb7a4b-1586-4539-b4a9-583cbc477aed"
      },
      "execution_count": null,
      "outputs": [
        {
          "output_type": "display_data",
          "data": {
            "text/plain": [
              "<Figure size 640x480 with 1 Axes>"
            ],
            "image/png": "[encoded data removed]"
          },
          "metadata": {}
        }
      ]
    },
    {
      "cell_type": "markdown",
      "source": [
        "5.b. Plotting the training and validation accuracy"
      ],
      "metadata": {
        "id": "9mraX_PtWumE"
      }
    },
    {
      "cell_type": "code",
      "source": [
        "plt.clf()\n",
        "acc = history.history[\"accuracy\"]\n",
        "val_acc = history.history[\"val_accuracy\"]\n",
        "plt.plot(epochs,acc,\"bo\",label=\"Training acc\")\n",
        "plt.plot(epochs,val_acc,\"b\",label=\"Validation acc\")\n",
        "plt.title(\"Training and validation accuracy\")\n",
        "plt.xlabel(\"Epochs\")\n",
        "plt.ylabel(\"Accuracy\")\n",
        "plt.legend()\n",
        "plt.show()"
      ],
      "metadata": {
        "colab": {
          "base_uri": "https://localhost:8080/",
          "height": 472
        },
        "id": "zICNp6AUWqhb",
        "outputId": "1f761b9d-492a-4d18-c287-2126ed1d8179"
      },
      "execution_count": null,
      "outputs": [
        {
          "output_type": "display_data",
          "data": {
            "text/plain": [
              "<Figure size 640x480 with 1 Axes>"
            ],
            "image/png": "[encoded data removed]"
          },
          "metadata": {}
        }
      ]
    },
    {
      "cell_type": "markdown",
      "source": [
        "Here the model starts to overfit after nine epochs.\n",
        "We need to train a new model for nine epochs from scratch and then evaluate it on the test set."
      ],
      "metadata": {
        "id": "qzBxpveWXLra"
      }
    },
    {
      "cell_type": "markdown",
      "source": [
        "### 6. Retraining the model from scratch"
      ],
      "metadata": {
        "id": "PCmjjSNnYJX7"
      }
    },
    {
      "cell_type": "markdown",
      "source": [
        "6.a. New model(n_model)"
      ],
      "metadata": {
        "id": "QmlKQ-GCaDCZ"
      }
    },
    {
      "cell_type": "code",
      "source": [
        "n_model= keras.Sequential([\n",
        "    layers.Dense(64,activation=\"relu\"),\n",
        "    layers.Dense(64,activation=\"relu\"),\n",
        "    layers.Dense(46,activation=\"softmax\")\n",
        "])"
      ],
      "metadata": {
        "id": "hmtmng_8YIjZ"
      },
      "execution_count": null,
      "outputs": []
    },
    {
      "cell_type": "code",
      "source": [
        "n_model.compile(optimizer=\"rmsprop\",\n",
        "              loss=\"categorical_crossentropy\",\n",
        "              metrics=[\"accuracy\"])"
      ],
      "metadata": {
        "id": "HX7CTGiMZEwd"
      },
      "execution_count": null,
      "outputs": []
    },
    {
      "cell_type": "code",
      "source": [
        "n_model.fit(x_train,\n",
        "            y_train,\n",
        "            epochs=9,\n",
        "            batch_size=512)"
      ],
      "metadata": {
        "colab": {
          "base_uri": "https://localhost:8080/"
        },
        "id": "Qo5oYc8sZYGO",
        "outputId": "6d191440-3c56-4b02-a9e3-282de6fe5987"
      },
      "execution_count": null,
      "outputs": [
        {
          "output_type": "stream",
          "name": "stdout",
          "text": [
            "Epoch 1/9\n",
            "18/18 [==============================] - 1s 48ms/step - loss: 2.5428 - accuracy: 0.4986\n",
            "Epoch 2/9\n",
            "18/18 [==============================] - 1s 85ms/step - loss: 1.4596 - accuracy: 0.6908\n",
            "Epoch 3/9\n",
            "18/18 [==============================] - 1s 70ms/step - loss: 1.1344 - accuracy: 0.7494\n",
            "Epoch 4/9\n",
            "18/18 [==============================] - 1s 57ms/step - loss: 0.9237 - accuracy: 0.8016\n",
            "Epoch 5/9\n",
            "18/18 [==============================] - 1s 40ms/step - loss: 0.7606 - accuracy: 0.8343\n",
            "Epoch 6/9\n",
            "18/18 [==============================] - 1s 39ms/step - loss: 0.6263 - accuracy: 0.8672\n",
            "Epoch 7/9\n",
            "18/18 [==============================] - 1s 41ms/step - loss: 0.5178 - accuracy: 0.8910\n",
            "Epoch 8/9\n",
            "18/18 [==============================] - 1s 40ms/step - loss: 0.4305 - accuracy: 0.9088\n",
            "Epoch 9/9\n",
            "18/18 [==============================] - 1s 40ms/step - loss: 0.3659 - accuracy: 0.9221\n"
          ]
        },
        {
          "output_type": "execute_result",
          "data": {
            "text/plain": [
              "<keras.src.callbacks.History at 0x7c420e9ed3f0>"
            ]
          },
          "metadata": {},
          "execution_count": 31
        }
      ]
    },
    {
      "cell_type": "code",
      "source": [
        "results = n_model.evaluate(x_test,y_test)"
      ],
      "metadata": {
        "colab": {
          "base_uri": "https://localhost:8080/"
        },
        "id": "YmSH9qvrZkWh",
        "outputId": "f3d0fe3c-ae8f-41a7-be83-98f57b29d0f3"
      },
      "execution_count": null,
      "outputs": [
        {
          "output_type": "stream",
          "name": "stdout",
          "text": [
            "71/71 [==============================] - 1s 5ms/step - loss: 0.9289 - accuracy: 0.7890\n"
          ]
        }
      ]
    },
    {
      "cell_type": "code",
      "source": [
        "results"
      ],
      "metadata": {
        "colab": {
          "base_uri": "https://localhost:8080/"
        },
        "id": "-FySOgcjZwde",
        "outputId": "d9ca2ccd-cf33-4cad-fbc0-484698e70191"
      },
      "execution_count": null,
      "outputs": [
        {
          "output_type": "execute_result",
          "data": {
            "text/plain": [
              "[0.9289252758026123, 0.7889581322669983]"
            ]
          },
          "metadata": {},
          "execution_count": 33
        }
      ]
    },
    {
      "cell_type": "markdown",
      "source": [
        "### 7. Generating predictions new data"
      ],
      "metadata": {
        "id": "IQCYkxQ2aTMB"
      }
    },
    {
      "cell_type": "code",
      "source": [
        "predictions = n_model.predict(x_test)"
      ],
      "metadata": {
        "colab": {
          "base_uri": "https://localhost:8080/"
        },
        "id": "8wKChVgtZ5sf",
        "outputId": "e1a5ba52-499c-40a3-b900-0488cdd32901"
      },
      "execution_count": null,
      "outputs": [
        {
          "output_type": "stream",
          "name": "stdout",
          "text": [
            "71/71 [==============================] - 0s 4ms/step\n"
          ]
        }
      ]
    },
    {
      "cell_type": "code",
      "source": [
        "print(predictions[0].shape)"
      ],
      "metadata": {
        "colab": {
          "base_uri": "https://localhost:8080/"
        },
        "id": "hImvjK8kaefg",
        "outputId": "2add7d2e-5178-4536-cdaf-a77f59b6cff9"
      },
      "execution_count": null,
      "outputs": [
        {
          "output_type": "stream",
          "name": "stdout",
          "text": [
            "(46,)\n"
          ]
        }
      ]
    },
    {
      "cell_type": "markdown",
      "source": [
        "each entry in \"predictions\" is a vector of length = 46."
      ],
      "metadata": {
        "id": "QvK1XCpXauGx"
      }
    },
    {
      "cell_type": "code",
      "source": [
        "np.sum(predictions[0])"
      ],
      "metadata": {
        "colab": {
          "base_uri": "https://localhost:8080/"
        },
        "id": "hxF51fB3aqrI",
        "outputId": "16f982de-0435-48b4-d513-883a78f724be"
      },
      "execution_count": null,
      "outputs": [
        {
          "output_type": "execute_result",
          "data": {
            "text/plain": [
              "1.0"
            ]
          },
          "metadata": {},
          "execution_count": 37
        }
      ]
    },
    {
      "cell_type": "markdown",
      "source": [
        "the coefficients in this vector sum to 1, as they form a probability distribution."
      ],
      "metadata": {
        "id": "4lMnLuYfa-6I"
      }
    },
    {
      "cell_type": "code",
      "source": [],
      "metadata": {
        "id": "OEqs9cRia9Lv"
      },
      "execution_count": null,
      "outputs": []
    }
  ]
}